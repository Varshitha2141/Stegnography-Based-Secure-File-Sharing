{
  "nbformat": 4,
  "nbformat_minor": 0,
  "metadata": {
    "colab": {
      "provenance": []
    },
    "kernelspec": {
      "name": "python3",
      "display_name": "Python 3"
    },
    "language_info": {
      "name": "python"
    }
  },
  "cells": [
    {
      "cell_type": "code",
      "execution_count": 1,
      "metadata": {
        "colab": {
          "base_uri": "https://localhost:8080/"
        },
        "id": "sv8VHFvHaVNa",
        "outputId": "cde20e2e-a1a8-4d13-e0da-f3dab3a2fe10"
      },
      "outputs": [
        {
          "output_type": "stream",
          "name": "stdout",
          "text": [
            "Requirement already satisfied: pillow in /usr/local/lib/python3.10/dist-packages (11.1.0)\n",
            "Requirement already satisfied: cryptography in /usr/local/lib/python3.10/dist-packages (43.0.3)\n",
            "Requirement already satisfied: cffi>=1.12 in /usr/local/lib/python3.10/dist-packages (from cryptography) (1.17.1)\n",
            "Requirement already satisfied: pycparser in /usr/local/lib/python3.10/dist-packages (from cffi>=1.12->cryptography) (2.22)\n"
          ]
        }
      ],
      "source": [
        "!pip install pillow cryptography"
      ]
    },
    {
      "cell_type": "code",
      "source": [
        "from google.colab import files\n",
        "uploaded = files.upload()"
      ],
      "metadata": {
        "colab": {
          "base_uri": "https://localhost:8080/",
          "height": 108
        },
        "id": "WDma2iAYsYXB",
        "outputId": "3571032c-5591-4ad3-b2c7-896c3d473913"
      },
      "execution_count": 20,
      "outputs": [
        {
          "output_type": "display_data",
          "data": {
            "text/plain": [
              "<IPython.core.display.HTML object>"
            ],
            "text/html": [
              "\n",
              "     <input type=\"file\" id=\"files-fdccca15-4351-45c7-946f-e35314005af5\" name=\"files[]\" multiple disabled\n",
              "        style=\"border:none\" />\n",
              "     <output id=\"result-fdccca15-4351-45c7-946f-e35314005af5\">\n",
              "      Upload widget is only available when the cell has been executed in the\n",
              "      current browser session. Please rerun this cell to enable.\n",
              "      </output>\n",
              "      <script>// Copyright 2017 Google LLC\n",
              "//\n",
              "// Licensed under the Apache License, Version 2.0 (the \"License\");\n",
              "// you may not use this file except in compliance with the License.\n",
              "// You may obtain a copy of the License at\n",
              "//\n",
              "//      http://www.apache.org/licenses/LICENSE-2.0\n",
              "//\n",
              "// Unless required by applicable law or agreed to in writing, software\n",
              "// distributed under the License is distributed on an \"AS IS\" BASIS,\n",
              "// WITHOUT WARRANTIES OR CONDITIONS OF ANY KIND, either express or implied.\n",
              "// See the License for the specific language governing permissions and\n",
              "// limitations under the License.\n",
              "\n",
              "/**\n",
              " * @fileoverview Helpers for google.colab Python module.\n",
              " */\n",
              "(function(scope) {\n",
              "function span(text, styleAttributes = {}) {\n",
              "  const element = document.createElement('span');\n",
              "  element.textContent = text;\n",
              "  for (const key of Object.keys(styleAttributes)) {\n",
              "    element.style[key] = styleAttributes[key];\n",
              "  }\n",
              "  return element;\n",
              "}\n",
              "\n",
              "// Max number of bytes which will be uploaded at a time.\n",
              "const MAX_PAYLOAD_SIZE = 100 * 1024;\n",
              "\n",
              "function _uploadFiles(inputId, outputId) {\n",
              "  const steps = uploadFilesStep(inputId, outputId);\n",
              "  const outputElement = document.getElementById(outputId);\n",
              "  // Cache steps on the outputElement to make it available for the next call\n",
              "  // to uploadFilesContinue from Python.\n",
              "  outputElement.steps = steps;\n",
              "\n",
              "  return _uploadFilesContinue(outputId);\n",
              "}\n",
              "\n",
              "// This is roughly an async generator (not supported in the browser yet),\n",
              "// where there are multiple asynchronous steps and the Python side is going\n",
              "// to poll for completion of each step.\n",
              "// This uses a Promise to block the python side on completion of each step,\n",
              "// then passes the result of the previous step as the input to the next step.\n",
              "function _uploadFilesContinue(outputId) {\n",
              "  const outputElement = document.getElementById(outputId);\n",
              "  const steps = outputElement.steps;\n",
              "\n",
              "  const next = steps.next(outputElement.lastPromiseValue);\n",
              "  return Promise.resolve(next.value.promise).then((value) => {\n",
              "    // Cache the last promise value to make it available to the next\n",
              "    // step of the generator.\n",
              "    outputElement.lastPromiseValue = value;\n",
              "    return next.value.response;\n",
              "  });\n",
              "}\n",
              "\n",
              "/**\n",
              " * Generator function which is called between each async step of the upload\n",
              " * process.\n",
              " * @param {string} inputId Element ID of the input file picker element.\n",
              " * @param {string} outputId Element ID of the output display.\n",
              " * @return {!Iterable<!Object>} Iterable of next steps.\n",
              " */\n",
              "function* uploadFilesStep(inputId, outputId) {\n",
              "  const inputElement = document.getElementById(inputId);\n",
              "  inputElement.disabled = false;\n",
              "\n",
              "  const outputElement = document.getElementById(outputId);\n",
              "  outputElement.innerHTML = '';\n",
              "\n",
              "  const pickedPromise = new Promise((resolve) => {\n",
              "    inputElement.addEventListener('change', (e) => {\n",
              "      resolve(e.target.files);\n",
              "    });\n",
              "  });\n",
              "\n",
              "  const cancel = document.createElement('button');\n",
              "  inputElement.parentElement.appendChild(cancel);\n",
              "  cancel.textContent = 'Cancel upload';\n",
              "  const cancelPromise = new Promise((resolve) => {\n",
              "    cancel.onclick = () => {\n",
              "      resolve(null);\n",
              "    };\n",
              "  });\n",
              "\n",
              "  // Wait for the user to pick the files.\n",
              "  const files = yield {\n",
              "    promise: Promise.race([pickedPromise, cancelPromise]),\n",
              "    response: {\n",
              "      action: 'starting',\n",
              "    }\n",
              "  };\n",
              "\n",
              "  cancel.remove();\n",
              "\n",
              "  // Disable the input element since further picks are not allowed.\n",
              "  inputElement.disabled = true;\n",
              "\n",
              "  if (!files) {\n",
              "    return {\n",
              "      response: {\n",
              "        action: 'complete',\n",
              "      }\n",
              "    };\n",
              "  }\n",
              "\n",
              "  for (const file of files) {\n",
              "    const li = document.createElement('li');\n",
              "    li.append(span(file.name, {fontWeight: 'bold'}));\n",
              "    li.append(span(\n",
              "        `(${file.type || 'n/a'}) - ${file.size} bytes, ` +\n",
              "        `last modified: ${\n",
              "            file.lastModifiedDate ? file.lastModifiedDate.toLocaleDateString() :\n",
              "                                    'n/a'} - `));\n",
              "    const percent = span('0% done');\n",
              "    li.appendChild(percent);\n",
              "\n",
              "    outputElement.appendChild(li);\n",
              "\n",
              "    const fileDataPromise = new Promise((resolve) => {\n",
              "      const reader = new FileReader();\n",
              "      reader.onload = (e) => {\n",
              "        resolve(e.target.result);\n",
              "      };\n",
              "      reader.readAsArrayBuffer(file);\n",
              "    });\n",
              "    // Wait for the data to be ready.\n",
              "    let fileData = yield {\n",
              "      promise: fileDataPromise,\n",
              "      response: {\n",
              "        action: 'continue',\n",
              "      }\n",
              "    };\n",
              "\n",
              "    // Use a chunked sending to avoid message size limits. See b/62115660.\n",
              "    let position = 0;\n",
              "    do {\n",
              "      const length = Math.min(fileData.byteLength - position, MAX_PAYLOAD_SIZE);\n",
              "      const chunk = new Uint8Array(fileData, position, length);\n",
              "      position += length;\n",
              "\n",
              "      const base64 = btoa(String.fromCharCode.apply(null, chunk));\n",
              "      yield {\n",
              "        response: {\n",
              "          action: 'append',\n",
              "          file: file.name,\n",
              "          data: base64,\n",
              "        },\n",
              "      };\n",
              "\n",
              "      let percentDone = fileData.byteLength === 0 ?\n",
              "          100 :\n",
              "          Math.round((position / fileData.byteLength) * 100);\n",
              "      percent.textContent = `${percentDone}% done`;\n",
              "\n",
              "    } while (position < fileData.byteLength);\n",
              "  }\n",
              "\n",
              "  // All done.\n",
              "  yield {\n",
              "    response: {\n",
              "      action: 'complete',\n",
              "    }\n",
              "  };\n",
              "}\n",
              "\n",
              "scope.google = scope.google || {};\n",
              "scope.google.colab = scope.google.colab || {};\n",
              "scope.google.colab._files = {\n",
              "  _uploadFiles,\n",
              "  _uploadFilesContinue,\n",
              "};\n",
              "})(self);\n",
              "</script> "
            ]
          },
          "metadata": {}
        },
        {
          "output_type": "stream",
          "name": "stdout",
          "text": [
            "Saving carrier.png to carrier (1).png\n",
            "Saving secret.docx to secret (1).docx\n"
          ]
        }
      ]
    },
    {
      "cell_type": "code",
      "source": [
        "from PIL import Image\n",
        "from cryptography.fernet import Fernet"
      ],
      "metadata": {
        "id": "n2hfsmAotMd3"
      },
      "execution_count": 22,
      "outputs": []
    },
    {
      "cell_type": "code",
      "source": [
        "# Generate an encryption key\n",
        "def generate_key():\n",
        "    key = Fernet.generate_key()\n",
        "    with open(\"key.key\", \"wb\") as key_file:\n",
        "        key_file.write(key)\n",
        "    return key"
      ],
      "metadata": {
        "id": "e4ZVOlTvtQyE"
      },
      "execution_count": 23,
      "outputs": []
    },
    {
      "cell_type": "code",
      "source": [
        "# Encrypt data\n",
        "def encrypt_data(data, key):\n",
        "    cipher = Fernet(key)\n",
        "    return cipher.encrypt(data)"
      ],
      "metadata": {
        "id": "9sX7Ik36tUNz"
      },
      "execution_count": 24,
      "outputs": []
    },
    {
      "cell_type": "code",
      "source": [
        "Image.open(\"carrier.png\").convert(\"RGB\").save(\"carrier.png\")"
      ],
      "metadata": {
        "id": "tchKMtvAxDa5"
      },
      "execution_count": 25,
      "outputs": []
    },
    {
      "cell_type": "code",
      "source": [
        "\n",
        "# Hide data in the image\n",
        "def hide_data(image_path, file_to_hide, output_image, encrypt=False):\n",
        "    # Load the carrier image\n",
        "    image = Image.open(image_path)\n",
        "    pixels = image.load()\n",
        "\n",
        "    # Check the mode of the image\n",
        "    if image.mode not in (\"RGB\", \"RGBA\"):\n",
        "        raise ValueError(\"Image mode not supported. Use RGB or RGBA images.\")\n",
        "\n",
        "    # Read the file to hide\n",
        "    with open(file_to_hide, \"rb\") as f:\n",
        "        data = f.read()\n",
        "\n",
        "    # Encrypt the data if required\n",
        "    if encrypt:\n",
        "        key = generate_key()\n",
        "        data = encrypt_data(data, key)\n",
        "        print(\"Data encrypted. Encryption key saved as 'key.key'\")\n",
        "\n",
        "    # Convert data to binary\n",
        "    data += b\"###\"  # Add a delimiter to mark the end of data\n",
        "    binary_data = ''.join(format(byte, '08b') for byte in data)\n",
        "\n",
        "    # Embed binary data into the image\n",
        "    data_index = 0\n",
        "    for y in range(image.height):\n",
        "        for x in range(image.width):\n",
        "            if data_index < len(binary_data):\n",
        "                pixel = list(pixels[x, y])  # Convert pixel to a list to modify\n",
        "                pixel[0] = (pixel[0] & ~1) | int(binary_data[data_index])  # Modify the LSB of the red channel\n",
        "                pixels[x, y] = tuple(pixel)  # Update the pixel\n",
        "                data_index += 1\n",
        "            else:\n",
        "                break\n",
        "\n",
        "    # Save the stego image\n",
        "    image.save(output_image)\n",
        "    print(f\"Data hidden in {output_image}\")\n",
        "    print(\"tesssss\")"
      ],
      "metadata": {
        "id": "ag6nBloCtaQ0"
      },
      "execution_count": 26,
      "outputs": []
    },
    {
      "cell_type": "code",
      "source": [
        "from PIL import Image\n",
        "\n",
        "# Open the image\n",
        "image = Image.open(\"carrier.png\")\n",
        "\n",
        "# Check the mode\n",
        "print(f\"The image mode is: {image.mode}\")\n"
      ],
      "metadata": {
        "colab": {
          "base_uri": "https://localhost:8080/"
        },
        "id": "2qH-nbydvzXx",
        "outputId": "65dd4fa3-30e1-4601-938c-49bc47191d4a"
      },
      "execution_count": 27,
      "outputs": [
        {
          "output_type": "stream",
          "name": "stdout",
          "text": [
            "The image mode is: RGB\n"
          ]
        }
      ]
    },
    {
      "cell_type": "code",
      "source": [
        "def hide_data(image_path, file_to_hide, output_image, encrypt=False):\n",
        "    print(\"Function started.\")\n",
        "\n",
        "    # Load the carrier image\n",
        "    image = Image.open(image_path)\n",
        "    pixels = image.load()\n",
        "    print(f\"Image loaded. Mode: {image.mode}\")\n",
        "\n",
        "    # Check the mode of the image\n",
        "    if image.mode not in (\"RGB\", \"RGBA\"):\n",
        "        raise ValueError(\"Image mode not supported. Use RGB or RGBA images.\")\n",
        "\n",
        "    # Read the file to hide\n",
        "    with open(file_to_hide, \"rb\") as f:\n",
        "        data = f.read()\n",
        "    print(\"Secret file read.\")\n",
        "\n",
        "    # Encrypt the data if required\n",
        "    if encrypt:\n",
        "        key = generate_key()\n",
        "        data = encrypt_data(data, key)\n",
        "        print(\"Data encrypted. Encryption key saved as 'key.key'\")\n",
        "\n",
        "    # Convert data to binary\n",
        "    data += b\"###\"  # Add a delimiter to mark the end of data\n",
        "    binary_data = ''.join(format(byte, '08b') for byte in data)\n",
        "    print(f\"Binary data length: {len(binary_data)}\")\n",
        "\n",
        "    # Embed binary data into the image\n",
        "    data_index = 0\n",
        "    for y in range(image.height):\n",
        "        for x in range(image.width):\n",
        "            if data_index < len(binary_data):\n",
        "                pixel = list(pixels[x, y])  # Convert pixel to a list to modify\n",
        "                pixel[0] = (pixel[0] & ~1) | int(binary_data[data_index])  # Modify the LSB of the red channel\n",
        "                pixels[x, y] = tuple(pixel)  # Update the pixel\n",
        "                data_index += 1\n",
        "            else:\n",
        "                break\n",
        "    print(f\"Data embedded. Total bits embedded: {data_index}\")\n",
        "\n",
        "    # Save the stego image\n",
        "    image.save(output_image)\n",
        "    print(f\"Data hidden in {output_image}\")"
      ],
      "metadata": {
        "id": "iRbVL2cpv3yO"
      },
      "execution_count": 28,
      "outputs": []
    },
    {
      "cell_type": "code",
      "source": [
        "hide_data(\"carrier.png\", \"secret.docx\", \"stego_image.png\", encrypt=True)"
      ],
      "metadata": {
        "colab": {
          "base_uri": "https://localhost:8080/"
        },
        "id": "5ZOXoICNyXVq",
        "outputId": "e0ea5a6e-3cb3-427a-b64d-c5a25ba27205"
      },
      "execution_count": 29,
      "outputs": [
        {
          "output_type": "stream",
          "name": "stdout",
          "text": [
            "Function started.\n",
            "Image loaded. Mode: RGB\n",
            "Secret file read.\n",
            "Data encrypted. Encryption key saved as 'key.key'\n",
            "Binary data length: 131544\n",
            "Data embedded. Total bits embedded: 131544\n",
            "Data hidden in stego_image.png\n"
          ]
        }
      ]
    },
    {
      "cell_type": "code",
      "source": [
        "from google.colab import files\n",
        "\n",
        "# Download the stego image\n",
        "files.download(\"stego_image.png\")\n",
        "files.download(\"key.key\")"
      ],
      "metadata": {
        "colab": {
          "base_uri": "https://localhost:8080/",
          "height": 17
        },
        "id": "2VJhN6D3ye6k",
        "outputId": "9423184f-29ff-4d8c-d665-deaf804e1429"
      },
      "execution_count": 30,
      "outputs": [
        {
          "output_type": "display_data",
          "data": {
            "text/plain": [
              "<IPython.core.display.Javascript object>"
            ],
            "application/javascript": [
              "\n",
              "    async function download(id, filename, size) {\n",
              "      if (!google.colab.kernel.accessAllowed) {\n",
              "        return;\n",
              "      }\n",
              "      const div = document.createElement('div');\n",
              "      const label = document.createElement('label');\n",
              "      label.textContent = `Downloading \"${filename}\": `;\n",
              "      div.appendChild(label);\n",
              "      const progress = document.createElement('progress');\n",
              "      progress.max = size;\n",
              "      div.appendChild(progress);\n",
              "      document.body.appendChild(div);\n",
              "\n",
              "      const buffers = [];\n",
              "      let downloaded = 0;\n",
              "\n",
              "      const channel = await google.colab.kernel.comms.open(id);\n",
              "      // Send a message to notify the kernel that we're ready.\n",
              "      channel.send({})\n",
              "\n",
              "      for await (const message of channel.messages) {\n",
              "        // Send a message to notify the kernel that we're ready.\n",
              "        channel.send({})\n",
              "        if (message.buffers) {\n",
              "          for (const buffer of message.buffers) {\n",
              "            buffers.push(buffer);\n",
              "            downloaded += buffer.byteLength;\n",
              "            progress.value = downloaded;\n",
              "          }\n",
              "        }\n",
              "      }\n",
              "      const blob = new Blob(buffers, {type: 'application/binary'});\n",
              "      const a = document.createElement('a');\n",
              "      a.href = window.URL.createObjectURL(blob);\n",
              "      a.download = filename;\n",
              "      div.appendChild(a);\n",
              "      a.click();\n",
              "      div.remove();\n",
              "    }\n",
              "  "
            ]
          },
          "metadata": {}
        },
        {
          "output_type": "display_data",
          "data": {
            "text/plain": [
              "<IPython.core.display.Javascript object>"
            ],
            "application/javascript": [
              "download(\"download_631d8154-6871-4a21-a9ea-f60e96e23662\", \"stego_image.png\", 45835)"
            ]
          },
          "metadata": {}
        },
        {
          "output_type": "display_data",
          "data": {
            "text/plain": [
              "<IPython.core.display.Javascript object>"
            ],
            "application/javascript": [
              "\n",
              "    async function download(id, filename, size) {\n",
              "      if (!google.colab.kernel.accessAllowed) {\n",
              "        return;\n",
              "      }\n",
              "      const div = document.createElement('div');\n",
              "      const label = document.createElement('label');\n",
              "      label.textContent = `Downloading \"${filename}\": `;\n",
              "      div.appendChild(label);\n",
              "      const progress = document.createElement('progress');\n",
              "      progress.max = size;\n",
              "      div.appendChild(progress);\n",
              "      document.body.appendChild(div);\n",
              "\n",
              "      const buffers = [];\n",
              "      let downloaded = 0;\n",
              "\n",
              "      const channel = await google.colab.kernel.comms.open(id);\n",
              "      // Send a message to notify the kernel that we're ready.\n",
              "      channel.send({})\n",
              "\n",
              "      for await (const message of channel.messages) {\n",
              "        // Send a message to notify the kernel that we're ready.\n",
              "        channel.send({})\n",
              "        if (message.buffers) {\n",
              "          for (const buffer of message.buffers) {\n",
              "            buffers.push(buffer);\n",
              "            downloaded += buffer.byteLength;\n",
              "            progress.value = downloaded;\n",
              "          }\n",
              "        }\n",
              "      }\n",
              "      const blob = new Blob(buffers, {type: 'application/binary'});\n",
              "      const a = document.createElement('a');\n",
              "      a.href = window.URL.createObjectURL(blob);\n",
              "      a.download = filename;\n",
              "      div.appendChild(a);\n",
              "      a.click();\n",
              "      div.remove();\n",
              "    }\n",
              "  "
            ]
          },
          "metadata": {}
        },
        {
          "output_type": "display_data",
          "data": {
            "text/plain": [
              "<IPython.core.display.Javascript object>"
            ],
            "application/javascript": [
              "download(\"download_bdaa1ccf-60d2-45c9-8d21-5bb3cd77e766\", \"key.key\", 44)"
            ]
          },
          "metadata": {}
        }
      ]
    }
  ]
}